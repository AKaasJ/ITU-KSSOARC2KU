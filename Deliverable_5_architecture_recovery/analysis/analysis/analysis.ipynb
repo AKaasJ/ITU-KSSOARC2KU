{
 "cells": [
  {
   "cell_type": "code",
   "execution_count": 2,
   "metadata": {
    "metadata": {}
   },
   "outputs": [
    {
     "name": "stdout",
     "output_type": "stream",
     "text": [
      "Defaulting to user installation because normal site-packages is not writeable\n",
      "Requirement already satisfied: gitpython in /home/vscode/.local/lib/python3.10/site-packages (3.1.43)\n",
      "Requirement already satisfied: pandas in /home/vscode/.local/lib/python3.10/site-packages (2.2.2)\n",
      "Requirement already satisfied: gitdb<5,>=4.0.1 in /home/vscode/.local/lib/python3.10/site-packages (from gitpython) (4.0.11)\n",
      "Requirement already satisfied: tzdata>=2022.7 in /home/vscode/.local/lib/python3.10/site-packages (from pandas) (2024.1)\n",
      "Requirement already satisfied: python-dateutil>=2.8.2 in /usr/local/lib/python3.10/site-packages (from pandas) (2.9.0.post0)\n",
      "Requirement already satisfied: pytz>=2020.1 in /home/vscode/.local/lib/python3.10/site-packages (from pandas) (2024.1)\n",
      "Requirement already satisfied: numpy>=1.22.4 in /usr/local/lib/python3.10/site-packages (from pandas) (1.26.4)\n",
      "Requirement already satisfied: smmap<6,>=3.0.1 in /home/vscode/.local/lib/python3.10/site-packages (from gitdb<5,>=4.0.1->gitpython) (5.0.1)\n",
      "Requirement already satisfied: six>=1.5 in /usr/local/lib/python3.10/site-packages (from python-dateutil>=2.8.2->pandas) (1.16.0)\n",
      "\n",
      "\u001b[1m[\u001b[0m\u001b[34;49mnotice\u001b[0m\u001b[1;39;49m]\u001b[0m\u001b[39;49m A new release of pip is available: \u001b[0m\u001b[31;49m23.0.1\u001b[0m\u001b[39;49m -> \u001b[0m\u001b[32;49m24.0\u001b[0m\n",
      "\u001b[1m[\u001b[0m\u001b[34;49mnotice\u001b[0m\u001b[1;39;49m]\u001b[0m\u001b[39;49m To update, run: \u001b[0m\u001b[32;49mpip install --upgrade pip\u001b[0m\n",
      "Note: you may need to restart the kernel to use updated packages.\n"
     ]
    }
   ],
   "source": [
    "%pip install gitpython pandas tabulate\n",
    "# %sudo apt-get install texlive-latex-base\n",
    "# %sudo apt install pandoc\n",
    "# %sudo apt-get install texlive-fonts-recommended\n",
    "# %sudo apt-get install texlive-fonts-extra"
   ]
  },
  {
   "cell_type": "code",
   "execution_count": 3,
   "metadata": {
    "metadata": {}
   },
   "outputs": [],
   "source": [
    "from git import Repo\n",
    "import matplotlib.pyplot as plt\n",
    "import pandas as pd\n",
    "\n",
    "from helper_functions import plot_len_files, count_lines, count_complexity, get_py_files\n",
    "from config import LANGCHAIN_FOLDER, LANGCHAIN_SUBFOLDER\n"
   ]
  },
  {
   "cell_type": "code",
   "execution_count": 4,
   "metadata": {
    "metadata": {}
   },
   "outputs": [],
   "source": [
    "repo = Repo(LANGCHAIN_FOLDER)"
   ]
  },
  {
   "cell_type": "markdown",
   "metadata": {
    "metadata": {}
   },
   "source": [
    "# visualize dependencies"
   ]
  },
  {
   "cell_type": "code",
   "execution_count": 61,
   "metadata": {
    "metadata": {}
   },
   "outputs": [
    {
     "name": "stdout",
     "output_type": "stream",
     "text": [
      "3280\n"
     ]
    }
   ],
   "source": [
    "from pathlib import Path\n",
    "files = []\n",
    "for file in Path(LANGCHAIN_FOLDER+LANGCHAIN_SUBFOLDER).rglob(\"*.py\"):\n",
    "    # ignore init files\n",
    "    if \"__init__\" not in file.name:\n",
    "        #print(file)\n",
    "        files.append(file)\n",
    "    \n",
    "print(len(files))"
   ]
  },
  {
   "cell_type": "markdown",
   "metadata": {},
   "source": [
    "# Open every tag and print len(files)"
   ]
  },
  {
   "cell_type": "code",
   "execution_count": 62,
   "metadata": {
    "metadata": {}
   },
   "outputs": [],
   "source": [
    "TAGS_TO_ANALYZE = [\n",
    "    \"v0.0.1\",\n",
    "    \"v0.0.100\",\n",
    "    \"v0.0.200\",\n",
    "    \"v0.0.300\",\n",
    "    \"v0.1.0\",\n",
    "    \"v0.1.4\",\n",
    "    \"v0.1.8\",\n",
    "    \"v0.1.12\",\n",
    "    \"v0.1.16\",\n",
    "]   "
   ]
  },
  {
   "cell_type": "code",
   "execution_count": 63,
   "metadata": {
    "metadata": {}
   },
   "outputs": [],
   "source": [
    "d = {}\n",
    "for tag in TAGS_TO_ANALYZE:\n",
    "    repo.git.checkout(tag)\n",
    "    d[tag] = {}\n",
    "    d[tag][\"datetime\"] = repo.head.commit.committed_datetime\n",
    "    d[tag][\"py_files\"] = get_py_files(LANGCHAIN_FOLDER+LANGCHAIN_SUBFOLDER)\n",
    "    d[tag][\"len_files\"] = len(d[tag][\"py_files\"])"
   ]
  },
  {
   "cell_type": "code",
   "execution_count": 64,
   "metadata": {
    "metadata": {}
   },
   "outputs": [],
   "source": [
    "\n",
    "df = pd.DataFrame(d).T\n",
    "df = df.sort_values(\"datetime\")"
   ]
  },
  {
   "cell_type": "code",
   "execution_count": 65,
   "metadata": {
    "metadata": {}
   },
   "outputs": [
    {
     "name": "stderr",
     "output_type": "stream",
     "text": [
      "/tmp/ipykernel_828/1539661477.py:5: UserWarning: FigureCanvasAgg is non-interactive, and thus cannot be shown\n",
      "  fig.show()\n"
     ]
    },
    {
     "data": {
      "image/png": "[encoded data removed]",
      "text/plain": [
       "<Figure size 640x480 with 1 Axes>"
      ]
     },
     "metadata": {},
     "output_type": "display_data"
    }
   ],
   "source": [
    "fig = plot_len_files(df)\n",
    "plt.title(\"Python files in langchain\")\n",
    "plt.xlabel(\"Release\")\n",
    "plt.ylabel(\"Number of python files\")\n",
    "fig.show()\n",
    "fig.savefig(\"../figs/len_files.png\")"
   ]
  },
  {
   "cell_type": "markdown",
   "metadata": {},
   "source": [
    "# Compute complexity and lines per file"
   ]
  },
  {
   "cell_type": "code",
   "execution_count": 53,
   "metadata": {
    "metadata": {}
   },
   "outputs": [],
   "source": [
    "TAGS_TO_ANALYZE_2 = [str(tag) for tag in repo.tags if \"v0.\" in str(tag)]"
   ]
  },
  {
   "cell_type": "code",
   "execution_count": 54,
   "metadata": {
    "metadata": {}
   },
   "outputs": [
    {
     "name": "stdout",
     "output_type": "stream",
     "text": [
      "langchain/libs/langchain/tests/integration_tests/examples/non-utf8-encoding.py\n",
      "langchain/libs/langchain/tests/integration_tests/examples/non-utf8-encoding.py\n",
      "langchain/libs/langchain/tests/integration_tests/examples/non-utf8-encoding.py\n",
      "langchain/libs/langchain/tests/integration_tests/examples/non-utf8-encoding.py\n",
      "langchain/libs/langchain/tests/integration_tests/examples/non-utf8-encoding.py\n",
      "langchain/libs/langchain/tests/integration_tests/examples/non-utf8-encoding.py\n",
      "langchain/libs/langchain/tests/integration_tests/examples/non-utf8-encoding.py\n",
      "langchain/libs/langchain/tests/integration_tests/examples/non-utf8-encoding.py\n",
      "langchain/libs/langchain/tests/integration_tests/examples/non-utf8-encoding.py\n",
      "langchain/libs/langchain/tests/integration_tests/examples/non-utf8-encoding.py\n",
      "langchain/libs/langchain/tests/integration_tests/examples/non-utf8-encoding.py\n",
      "langchain/libs/langchain/tests/integration_tests/examples/non-utf8-encoding.py\n",
      "langchain/libs/langchain/tests/integration_tests/examples/non-utf8-encoding.py\n",
      "langchain/libs/langchain/tests/integration_tests/examples/non-utf8-encoding.py\n",
      "langchain/libs/langchain/tests/integration_tests/examples/non-utf8-encoding.py\n",
      "langchain/libs/langchain/tests/integration_tests/examples/non-utf8-encoding.py\n",
      "langchain/libs/langchain/tests/integration_tests/examples/non-utf8-encoding.py\n",
      "langchain/libs/langchain/tests/integration_tests/examples/non-utf8-encoding.py\n",
      "langchain/libs/langchain/tests/integration_tests/examples/non-utf8-encoding.py\n",
      "langchain/libs/langchain/tests/integration_tests/examples/non-utf8-encoding.py\n",
      "langchain/libs/langchain/tests/integration_tests/examples/non-utf8-encoding.py\n",
      "langchain/libs/langchain/tests/integration_tests/examples/non-utf8-encoding.py\n",
      "langchain/libs/langchain/tests/integration_tests/examples/non-utf8-encoding.py\n",
      "langchain/libs/langchain/tests/integration_tests/examples/non-utf8-encoding.py\n",
      "langchain/libs/langchain/tests/integration_tests/examples/non-utf8-encoding.py\n",
      "langchain/libs/langchain/tests/integration_tests/examples/non-utf8-encoding.py\n",
      "langchain/libs/langchain/tests/integration_tests/examples/non-utf8-encoding.py\n",
      "langchain/libs/langchain/tests/integration_tests/examples/non-utf8-encoding.py\n",
      "langchain/libs/langchain/tests/integration_tests/examples/non-utf8-encoding.py\n",
      "langchain/libs/langchain/tests/integration_tests/examples/non-utf8-encoding.py\n",
      "langchain/libs/langchain/tests/integration_tests/examples/non-utf8-encoding.py\n",
      "langchain/libs/langchain/tests/integration_tests/examples/non-utf8-encoding.py\n",
      "langchain/libs/langchain/tests/integration_tests/examples/non-utf8-encoding.py\n",
      "langchain/libs/langchain/tests/integration_tests/examples/non-utf8-encoding.py\n",
      "langchain/libs/langchain/tests/integration_tests/examples/non-utf8-encoding.py\n",
      "langchain/libs/langchain/tests/integration_tests/examples/non-utf8-encoding.py\n",
      "langchain/libs/langchain/tests/integration_tests/examples/non-utf8-encoding.py\n",
      "langchain/libs/langchain/tests/integration_tests/examples/non-utf8-encoding.py\n",
      "langchain/libs/langchain/tests/integration_tests/examples/non-utf8-encoding.py\n",
      "langchain/libs/langchain/tests/integration_tests/examples/non-utf8-encoding.py\n",
      "langchain/libs/langchain/tests/integration_tests/examples/non-utf8-encoding.py\n",
      "langchain/libs/langchain/tests/integration_tests/examples/non-utf8-encoding.py\n",
      "langchain/libs/langchain/tests/integration_tests/examples/non-utf8-encoding.py\n",
      "langchain/libs/langchain/tests/integration_tests/examples/non-utf8-encoding.py\n",
      "langchain/libs/langchain/tests/integration_tests/examples/non-utf8-encoding.py\n",
      "langchain/libs/langchain/tests/integration_tests/examples/non-utf8-encoding.py\n",
      "langchain/libs/langchain/tests/integration_tests/examples/non-utf8-encoding.py\n",
      "langchain/libs/langchain/tests/integration_tests/examples/non-utf8-encoding.py\n",
      "langchain/libs/langchain/tests/integration_tests/examples/non-utf8-encoding.py\n",
      "langchain/libs/langchain/tests/integration_tests/examples/non-utf8-encoding.py\n",
      "langchain/libs/langchain/tests/integration_tests/examples/non-utf8-encoding.py\n",
      "langchain/libs/langchain/tests/integration_tests/examples/non-utf8-encoding.py\n",
      "langchain/libs/langchain/tests/integration_tests/examples/non-utf8-encoding.py\n",
      "langchain/libs/langchain/tests/integration_tests/examples/non-utf8-encoding.py\n",
      "langchain/libs/langchain/tests/integration_tests/examples/non-utf8-encoding.py\n",
      "langchain/libs/langchain/tests/integration_tests/examples/non-utf8-encoding.py\n",
      "langchain/libs/langchain/tests/integration_tests/examples/non-utf8-encoding.py\n",
      "langchain/libs/langchain/tests/integration_tests/examples/non-utf8-encoding.py\n",
      "langchain/libs/langchain/tests/integration_tests/examples/non-utf8-encoding.py\n",
      "langchain/libs/langchain/tests/integration_tests/examples/non-utf8-encoding.py\n",
      "langchain/libs/langchain/tests/integration_tests/examples/non-utf8-encoding.py\n",
      "langchain/libs/langchain/tests/integration_tests/examples/non-utf8-encoding.py\n",
      "langchain/libs/langchain/tests/integration_tests/examples/non-utf8-encoding.py\n",
      "langchain/libs/langchain/tests/integration_tests/examples/non-utf8-encoding.py\n",
      "langchain/libs/langchain/tests/integration_tests/examples/non-utf8-encoding.py\n",
      "langchain/libs/langchain/tests/integration_tests/examples/non-utf8-encoding.py\n",
      "langchain/libs/langchain/tests/integration_tests/examples/non-utf8-encoding.py\n",
      "langchain/libs/langchain/tests/integration_tests/examples/non-utf8-encoding.py\n",
      "langchain/libs/langchain/tests/integration_tests/examples/non-utf8-encoding.py\n",
      "langchain/libs/langchain/tests/integration_tests/examples/non-utf8-encoding.py\n",
      "langchain/libs/langchain/tests/integration_tests/examples/non-utf8-encoding.py\n",
      "langchain/libs/langchain/tests/integration_tests/examples/non-utf8-encoding.py\n",
      "langchain/libs/langchain/tests/integration_tests/examples/non-utf8-encoding.py\n",
      "langchain/libs/langchain/tests/integration_tests/examples/non-utf8-encoding.py\n",
      "langchain/libs/langchain/tests/integration_tests/examples/non-utf8-encoding.py\n",
      "langchain/libs/langchain/tests/integration_tests/examples/non-utf8-encoding.py\n",
      "langchain/libs/langchain/tests/integration_tests/examples/non-utf8-encoding.py\n",
      "langchain/libs/langchain/tests/integration_tests/examples/non-utf8-encoding.py\n",
      "langchain/libs/langchain/tests/integration_tests/examples/non-utf8-encoding.py\n",
      "langchain/libs/langchain/tests/integration_tests/examples/non-utf8-encoding.py\n",
      "langchain/libs/langchain/tests/integration_tests/examples/non-utf8-encoding.py\n",
      "langchain/libs/langchain/tests/integration_tests/examples/non-utf8-encoding.py\n",
      "langchain/libs/langchain/tests/integration_tests/examples/non-utf8-encoding.py\n",
      "langchain/libs/langchain/tests/integration_tests/examples/non-utf8-encoding.py\n",
      "langchain/libs/langchain/tests/integration_tests/examples/non-utf8-encoding.py\n",
      "langchain/libs/langchain/tests/integration_tests/examples/non-utf8-encoding.py\n",
      "langchain/libs/langchain/tests/integration_tests/examples/non-utf8-encoding.py\n",
      "langchain/libs/langchain/tests/integration_tests/examples/non-utf8-encoding.py\n",
      "langchain/libs/langchain/tests/integration_tests/examples/non-utf8-encoding.py\n",
      "langchain/libs/langchain/tests/integration_tests/examples/non-utf8-encoding.py\n",
      "langchain/libs/langchain/tests/integration_tests/examples/non-utf8-encoding.py\n",
      "langchain/libs/langchain/tests/integration_tests/examples/non-utf8-encoding.py\n",
      "langchain/libs/langchain/tests/integration_tests/examples/non-utf8-encoding.py\n",
      "langchain/libs/langchain/tests/integration_tests/examples/non-utf8-encoding.py\n",
      "langchain/libs/langchain/tests/integration_tests/examples/non-utf8-encoding.py\n",
      "langchain/libs/langchain/tests/integration_tests/examples/non-utf8-encoding.py\n",
      "langchain/libs/langchain/tests/integration_tests/examples/non-utf8-encoding.py\n",
      "langchain/libs/langchain/tests/integration_tests/examples/non-utf8-encoding.py\n",
      "langchain/libs/langchain/tests/integration_tests/examples/non-utf8-encoding.py\n",
      "langchain/libs/langchain/tests/integration_tests/examples/non-utf8-encoding.py\n",
      "langchain/libs/langchain/tests/integration_tests/examples/non-utf8-encoding.py\n",
      "langchain/libs/langchain/tests/integration_tests/examples/non-utf8-encoding.py\n",
      "langchain/libs/langchain/tests/integration_tests/examples/non-utf8-encoding.py\n",
      "langchain/libs/langchain/tests/integration_tests/examples/non-utf8-encoding.py\n",
      "langchain/libs/langchain/tests/integration_tests/examples/non-utf8-encoding.py\n",
      "langchain/libs/langchain/tests/integration_tests/examples/non-utf8-encoding.py\n",
      "langchain/libs/langchain/tests/integration_tests/examples/non-utf8-encoding.py\n",
      "langchain/libs/langchain/tests/integration_tests/examples/non-utf8-encoding.py\n",
      "langchain/libs/langchain/tests/integration_tests/examples/non-utf8-encoding.py\n",
      "langchain/libs/langchain/tests/integration_tests/examples/non-utf8-encoding.py\n",
      "langchain/libs/langchain/tests/integration_tests/examples/non-utf8-encoding.py\n",
      "langchain/libs/langchain/tests/integration_tests/examples/non-utf8-encoding.py\n",
      "langchain/libs/langchain/tests/integration_tests/examples/non-utf8-encoding.py\n",
      "langchain/libs/langchain/tests/integration_tests/examples/non-utf8-encoding.py\n",
      "langchain/libs/langchain/tests/integration_tests/examples/non-utf8-encoding.py\n",
      "langchain/libs/langchain/tests/integration_tests/examples/non-utf8-encoding.py\n",
      "langchain/libs/langchain/tests/integration_tests/examples/non-utf8-encoding.py\n",
      "langchain/libs/langchain/tests/integration_tests/examples/non-utf8-encoding.py\n",
      "langchain/libs/langchain/tests/integration_tests/examples/non-utf8-encoding.py\n",
      "langchain/libs/langchain/tests/integration_tests/examples/non-utf8-encoding.py\n",
      "langchain/libs/langchain/tests/integration_tests/examples/non-utf8-encoding.py\n",
      "langchain/libs/langchain/tests/integration_tests/examples/non-utf8-encoding.py\n",
      "langchain/libs/community/tests/integration_tests/examples/non-utf8-encoding.py\n",
      "langchain/libs/community/tests/examples/non-utf8-encoding.py\n",
      "langchain/libs/langchain/tests/integration_tests/examples/non-utf8-encoding.py\n",
      "langchain/libs/langchain/tests/integration_tests/examples/non-utf8-encoding.py\n",
      "langchain/libs/langchain/tests/integration_tests/examples/non-utf8-encoding.py\n",
      "langchain/libs/community/tests/integration_tests/examples/non-utf8-encoding.py\n",
      "langchain/libs/community/tests/examples/non-utf8-encoding.py\n",
      "langchain/libs/langchain/tests/integration_tests/examples/non-utf8-encoding.py\n",
      "langchain/libs/community/tests/integration_tests/examples/non-utf8-encoding.py\n",
      "langchain/libs/community/tests/examples/non-utf8-encoding.py\n",
      "langchain/libs/langchain/tests/integration_tests/examples/non-utf8-encoding.py\n",
      "langchain/libs/community/tests/integration_tests/examples/non-utf8-encoding.py\n",
      "langchain/libs/community/tests/examples/non-utf8-encoding.py\n",
      "langchain/libs/langchain/tests/integration_tests/examples/non-utf8-encoding.py\n",
      "langchain/libs/community/tests/integration_tests/examples/non-utf8-encoding.py\n",
      "langchain/libs/community/tests/examples/non-utf8-encoding.py\n",
      "langchain/libs/langchain/tests/integration_tests/examples/non-utf8-encoding.py\n",
      "langchain/libs/community/tests/integration_tests/examples/non-utf8-encoding.py\n",
      "langchain/libs/community/tests/examples/non-utf8-encoding.py\n",
      "langchain/libs/langchain/tests/integration_tests/examples/non-utf8-encoding.py\n",
      "langchain/libs/langchain/tests/integration_tests/examples/non-utf8-encoding.py\n",
      "langchain/libs/langchain/tests/integration_tests/examples/non-utf8-encoding.py\n",
      "langchain/libs/community/tests/integration_tests/examples/non-utf8-encoding.py\n",
      "langchain/libs/community/tests/examples/non-utf8-encoding.py\n",
      "langchain/libs/langchain/tests/integration_tests/examples/non-utf8-encoding.py\n",
      "langchain/libs/community/tests/integration_tests/examples/non-utf8-encoding.py\n",
      "langchain/libs/community/tests/examples/non-utf8-encoding.py\n",
      "langchain/libs/langchain/tests/integration_tests/examples/non-utf8-encoding.py\n",
      "langchain/libs/community/tests/integration_tests/examples/non-utf8-encoding.py\n",
      "langchain/libs/community/tests/examples/non-utf8-encoding.py\n",
      "langchain/libs/langchain/tests/integration_tests/examples/non-utf8-encoding.py\n",
      "langchain/libs/community/tests/integration_tests/examples/non-utf8-encoding.py\n",
      "langchain/libs/community/tests/examples/non-utf8-encoding.py\n",
      "langchain/libs/langchain/tests/integration_tests/examples/non-utf8-encoding.py\n",
      "langchain/libs/community/tests/integration_tests/examples/non-utf8-encoding.py\n",
      "langchain/libs/community/tests/examples/non-utf8-encoding.py\n",
      "langchain/libs/langchain/tests/integration_tests/examples/non-utf8-encoding.py\n",
      "langchain/libs/community/tests/integration_tests/examples/non-utf8-encoding.py\n",
      "langchain/libs/community/tests/examples/non-utf8-encoding.py\n",
      "langchain/libs/langchain/tests/integration_tests/examples/non-utf8-encoding.py\n",
      "langchain/libs/community/tests/integration_tests/examples/non-utf8-encoding.py\n",
      "langchain/libs/community/tests/examples/non-utf8-encoding.py\n",
      "langchain/libs/langchain/tests/integration_tests/examples/non-utf8-encoding.py\n",
      "langchain/libs/community/tests/integration_tests/examples/non-utf8-encoding.py\n",
      "langchain/libs/community/tests/examples/non-utf8-encoding.py\n",
      "langchain/libs/langchain/tests/integration_tests/examples/non-utf8-encoding.py\n",
      "langchain/libs/community/tests/integration_tests/examples/non-utf8-encoding.py\n",
      "langchain/libs/community/tests/examples/non-utf8-encoding.py\n",
      "langchain/libs/langchain/tests/integration_tests/examples/non-utf8-encoding.py\n",
      "langchain/libs/community/tests/integration_tests/examples/non-utf8-encoding.py\n",
      "langchain/libs/community/tests/examples/non-utf8-encoding.py\n",
      "langchain/libs/langchain/tests/integration_tests/examples/non-utf8-encoding.py\n",
      "langchain/libs/community/tests/integration_tests/examples/non-utf8-encoding.py\n",
      "langchain/libs/community/tests/examples/non-utf8-encoding.py\n",
      "langchain/libs/langchain/tests/integration_tests/examples/non-utf8-encoding.py\n",
      "langchain/libs/community/tests/integration_tests/examples/non-utf8-encoding.py\n",
      "langchain/libs/community/tests/examples/non-utf8-encoding.py\n",
      "langchain/libs/langchain/tests/integration_tests/examples/non-utf8-encoding.py\n",
      "langchain/libs/community/tests/integration_tests/examples/non-utf8-encoding.py\n",
      "langchain/libs/community/tests/examples/non-utf8-encoding.py\n",
      "langchain/libs/langchain/tests/integration_tests/examples/non-utf8-encoding.py\n",
      "langchain/libs/community/tests/integration_tests/examples/non-utf8-encoding.py\n",
      "langchain/libs/community/tests/examples/non-utf8-encoding.py\n",
      "langchain/libs/langchain/tests/integration_tests/examples/non-utf8-encoding.py\n",
      "langchain/libs/community/tests/integration_tests/examples/non-utf8-encoding.py\n",
      "langchain/libs/community/tests/examples/non-utf8-encoding.py\n",
      "langchain/libs/langchain/tests/integration_tests/examples/non-utf8-encoding.py\n",
      "langchain/libs/community/tests/integration_tests/examples/non-utf8-encoding.py\n",
      "langchain/libs/community/tests/examples/non-utf8-encoding.py\n",
      "langchain/libs/langchain/tests/integration_tests/examples/non-utf8-encoding.py\n",
      "langchain/libs/community/tests/integration_tests/examples/non-utf8-encoding.py\n",
      "langchain/libs/community/tests/examples/non-utf8-encoding.py\n",
      "langchain/libs/langchain/tests/integration_tests/examples/non-utf8-encoding.py\n",
      "langchain/libs/community/tests/integration_tests/examples/non-utf8-encoding.py\n",
      "langchain/libs/community/tests/examples/non-utf8-encoding.py\n",
      "langchain/libs/langchain/tests/integration_tests/examples/non-utf8-encoding.py\n"
     ]
    }
   ],
   "source": [
    "d = {}\n",
    "for tag in TAGS_TO_ANALYZE_2:\n",
    "    repo.git.checkout(tag)\n",
    "    d[tag] = {}\n",
    "    commit_datetime = repo.head.commit.committed_datetime\n",
    "    py_files = get_py_files(LANGCHAIN_FOLDER+LANGCHAIN_SUBFOLDER)\n",
    "    for f_path in py_files:\n",
    "        with open(f_path, \"r\") as f:\n",
    "            try:\n",
    "                f_str = f.read()\n",
    "            except:\n",
    "                print(f_path)\n",
    "                pass\n",
    "            d[tag][str(f_path)] = {}\n",
    "            d[tag][str(f_path)][\"lines\"] = count_lines(f_str)\n",
    "            d[tag][str(f_path)][\"complexity\"] = count_complexity(f_str, strategy=\"prefix_spaces\")\n",
    "            d[tag][str(f_path)][\"tag\"] = str(tag)\n",
    "            d[tag][str(f_path)][\"datetime\"] = commit_datetime\n",
    "\n"
   ]
  },
  {
   "cell_type": "code",
   "execution_count": 55,
   "metadata": {
    "metadata": {}
   },
   "outputs": [],
   "source": [
    "dfs = [pd.DataFrame(d[tag]).T for tag in d.keys()]\n",
    "df = pd.concat(dfs)"
   ]
  },
  {
   "cell_type": "code",
   "execution_count": 56,
   "metadata": {
    "metadata": {}
   },
   "outputs": [],
   "source": [
    "complexity_subset_df = df.groupby(\"tag\")[[\"lines\", \"complexity\"]].mean()"
   ]
  },
  {
   "cell_type": "code",
   "execution_count": 60,
   "metadata": {},
   "outputs": [
    {
     "data": {
      "text/html": [
       "<div>\n",
       "<style scoped>\n",
       "    .dataframe tbody tr th:only-of-type {\n",
       "        vertical-align: middle;\n",
       "    }\n",
       "\n",
       "    .dataframe tbody tr th {\n",
       "        vertical-align: top;\n",
       "    }\n",
       "\n",
       "    .dataframe thead th {\n",
       "        text-align: right;\n",
       "    }\n",
       "</style>\n",
       "<table border=\"1\" class=\"dataframe\">\n",
       "  <thead>\n",
       "    <tr style=\"text-align: right;\">\n",
       "      <th></th>\n",
       "      <th>lines</th>\n",
       "      <th>complexity</th>\n",
       "    </tr>\n",
       "    <tr>\n",
       "      <th>tag</th>\n",
       "      <th></th>\n",
       "      <th></th>\n",
       "    </tr>\n",
       "  </thead>\n",
       "  <tbody>\n",
       "    <tr>\n",
       "      <th>v0.0.1</th>\n",
       "      <td>126.095857</td>\n",
       "      <td>794.898457</td>\n",
       "    </tr>\n",
       "    <tr>\n",
       "      <th>v0.0.300</th>\n",
       "      <td>136.487713</td>\n",
       "      <td>890.550725</td>\n",
       "    </tr>\n",
       "    <tr>\n",
       "      <th>v0.1.0</th>\n",
       "      <td>104.861258</td>\n",
       "      <td>681.915563</td>\n",
       "    </tr>\n",
       "    <tr>\n",
       "      <th>v0.1.12</th>\n",
       "      <td>113.313731</td>\n",
       "      <td>750.885373</td>\n",
       "    </tr>\n",
       "    <tr>\n",
       "      <th>v0.1.16</th>\n",
       "      <td>116.82309</td>\n",
       "      <td>779.568352</td>\n",
       "    </tr>\n",
       "    <tr>\n",
       "      <th>v0.1.4</th>\n",
       "      <td>107.826547</td>\n",
       "      <td>707.113177</td>\n",
       "    </tr>\n",
       "    <tr>\n",
       "      <th>v0.1.8</th>\n",
       "      <td>110.650799</td>\n",
       "      <td>728.836609</td>\n",
       "    </tr>\n",
       "  </tbody>\n",
       "</table>\n",
       "</div>"
      ],
      "text/plain": [
       "               lines  complexity\n",
       "tag                             \n",
       "v0.0.1    126.095857  794.898457\n",
       "v0.0.300  136.487713  890.550725\n",
       "v0.1.0    104.861258  681.915563\n",
       "v0.1.12   113.313731  750.885373\n",
       "v0.1.16    116.82309  779.568352\n",
       "v0.1.4    107.826547  707.113177\n",
       "v0.1.8    110.650799  728.836609"
      ]
     },
     "execution_count": 60,
     "metadata": {},
     "output_type": "execute_result"
    }
   ],
   "source": [
    "complexity_subset_df[complexity_subset_df.index.isin(TAGS_TO_ANALYZE)]#.groupby(\"tag\")[\"complexity\"].mean()"
   ]
  },
  {
   "cell_type": "markdown",
   "metadata": {},
   "source": [
    "### join datetime and sort"
   ]
  },
  {
   "cell_type": "code",
   "execution_count": 17,
   "metadata": {
    "metadata": {}
   },
   "outputs": [],
   "source": [
    "datetime_rows = df[[\"tag\", \"datetime\"]].drop_duplicates()"
   ]
  },
  {
   "cell_type": "code",
   "execution_count": 18,
   "metadata": {
    "metadata": {}
   },
   "outputs": [],
   "source": [
    "datetime_rows.index = datetime_rows.tag\n",
    "datetime_rows = datetime_rows.drop(\"tag\", axis=1)"
   ]
  },
  {
   "cell_type": "code",
   "execution_count": 19,
   "metadata": {
    "metadata": {}
   },
   "outputs": [],
   "source": [
    "complexity_subset_df = complexity_subset_df.merge(\n",
    "    datetime_rows,\n",
    "    left_index=True,\n",
    "    right_index = True\n",
    ").sort_values(\"datetime\")"
   ]
  },
  {
   "cell_type": "code",
   "execution_count": 20,
   "metadata": {
    "metadata": {}
   },
   "outputs": [],
   "source": [
    "filecount_subset_df = df.groupby(\"tag\").count()\n",
    "filecount_subset_df[\"no_files\"] = filecount_subset_df[\"lines\"]\n",
    "complexity_subset_df = complexity_subset_df.merge(\n",
    "    filecount_subset_df[[\"no_files\"]],\n",
    "    left_index=True,\n",
    "    right_index = True\n",
    ")\n"
   ]
  },
  {
   "cell_type": "code",
   "execution_count": 22,
   "metadata": {
    "metadata": {}
   },
   "outputs": [
    {
     "data": {
      "image/png": "[encoded data removed]",
      "text/plain": [
       "<Figure size 640x480 with 1 Axes>"
      ]
     },
     "metadata": {},
     "output_type": "display_data"
    }
   ],
   "source": [
    "ax = complexity_subset_df.plot(y='lines', kind='line', label='mean(lines)', use_index=True)\n",
    "complexity_subset_df.plot(y='complexity', kind='line', label='mean(complexity)', ax=ax, use_index=True)\n",
    "complexity_subset_df.plot(y='no_files', kind='line', label='number of files', ax=ax, use_index=True)\n",
    "\n",
    "plt.title('Dive in complexity between 0.0.345 and 0.1.8')\n",
    "plt.xlabel('Tag')\n",
    "plt.ylabel('mean(lines or complexity), abs(number of files)')\n",
    "plt.xticks(rotation=90)\n",
    "plt.legend()\n",
    "\n",
    "plt.savefig(\"../figs/mean_lines_complexity.png\")\n",
    "\n",
    "plt.show()"
   ]
  },
  {
   "cell_type": "code",
   "execution_count": 24,
   "metadata": {
    "metadata": {}
   },
   "outputs": [],
   "source": [
    "complexity_subset_df[\"complexity_diff\"] = complexity_subset_df[\"complexity\"].diff()"
   ]
  },
  {
   "cell_type": "code",
   "execution_count": 26,
   "metadata": {
    "metadata": {}
   },
   "outputs": [],
   "source": [
    "iloc_highest_diff = complexity_subset_df[\"complexity_diff\"].argmin()\n",
    "commit_with_highest_diff = complexity_subset_df.iloc[iloc_highest_diff]"
   ]
  },
  {
   "cell_type": "code",
   "execution_count": 27,
   "metadata": {
    "metadata": {}
   },
   "outputs": [
    {
     "data": {
      "text/plain": [
       "'v0.0.349'"
      ]
     },
     "execution_count": 27,
     "metadata": {},
     "output_type": "execute_result"
    }
   ],
   "source": [
    "commit_with_highest_diff.name"
   ]
  },
  {
   "cell_type": "markdown",
   "metadata": {},
   "source": [
    "### Comparing v0.0.348 with v0.0.349"
   ]
  },
  {
   "cell_type": "code",
   "execution_count": 23,
   "metadata": {
    "metadata": {}
   },
   "outputs": [],
   "source": [
    "df_commits = df[df[\"tag\"].isin([\"v0.0.348\", \"v0.0.349\"])]\n",
    "df_348 = df[df[\"tag\"].isin([\"v0.0.348\"])]\n",
    "df_349 = df[df[\"tag\"].isin([\"v0.0.349\"])]"
   ]
  },
  {
   "cell_type": "code",
   "execution_count": 24,
   "metadata": {
    "metadata": {}
   },
   "outputs": [
    {
     "name": "stdout",
     "output_type": "stream",
     "text": [
      "% complexity after change = 73.4465393862498\n",
      "%lines of after code change = 74.61691465517687\n"
     ]
    }
   ],
   "source": [
    "print(\"% complexity after change =\", (df_349.complexity.mean() / df_348.complexity.mean()) * 100)\n",
    "print(\"%lines of after code change =\", (df_349.lines.mean() / df_348.lines.mean()) * 100)\n"
   ]
  },
  {
   "cell_type": "markdown",
   "metadata": {},
   "source": [
    "### How have the files between the 2 commits changed?"
   ]
  },
  {
   "cell_type": "code",
   "execution_count": 27,
   "metadata": {
    "metadata": {}
   },
   "outputs": [],
   "source": [
    "\n",
    "# Specify the commit hashes you want to compare\n",
    "commit_hash_old = 'e4d6e55'  # Replace with the older commit hash\n",
    "commit_hash_new = '14bfc5f'  # Replace with the newer commit hash\n",
    "\n",
    "# Get the commit objects from their hashes\n",
    "commit_old = repo.commit(commit_hash_old)\n",
    "commit_new = repo.commit(commit_hash_new)\n",
    "diff_index = commit_old.diff(commit_new, create_patch=True)"
   ]
  },
  {
   "cell_type": "code",
   "execution_count": 28,
   "metadata": {
    "metadata": {}
   },
   "outputs": [
    {
     "name": "stderr",
     "output_type": "stream",
     "text": [
      "/tmp/ipykernel_828/3461250746.py:22: DeprecationWarning: Diff.renamed is deprecated, use Diff.renamed_file instead\n",
      "  d_diff[diff_item.a_path][\"renamed\"] = diff_item.renamed\n"
     ]
    }
   ],
   "source": [
    "l_diff_failed = []\n",
    "d_diff = {}\n",
    "for diff_item in diff_index:\n",
    "    \n",
    "    try:\n",
    "        diff_data = diff_item.diff.decode(\"utf-8\")  # Get the diff data as a string\n",
    "    except:\n",
    "        l_diff_failed.append(diff_item)\n",
    "        pass\n",
    "    \n",
    "    added_lines = diff_data.count('\\n+') - diff_data.count('\\n++')\n",
    "    removed_lines = diff_data.count('\\n-') - diff_data.count('\\n--')\n",
    "    d_diff[diff_item.a_path] = {}\n",
    "    d_diff[diff_item.a_path][\"lines_added\"] = added_lines\n",
    "    d_diff[diff_item.a_path][\"lines_removed\"] = removed_lines\n",
    "    d_diff[diff_item.a_path][\"change_type\"] = diff_item.change_type\n",
    "    d_diff[diff_item.a_path][\"diff_data\"] = diff_data\n",
    "    d_diff[diff_item.a_path][\"renamed\"] = diff_item.renamed\n",
    "    d_diff[diff_item.a_path][\"rename_from\"] = diff_item.rename_from\n",
    "    d_diff[diff_item.a_path][\"rename_to\"] = diff_item.rename_to\n",
    "    "
   ]
  },
  {
   "cell_type": "code",
   "execution_count": 29,
   "metadata": {
    "metadata": {}
   },
   "outputs": [],
   "source": [
    "diff_index_no_patch = commit_old.diff(commit_new, create_patch=False)\n",
    "for diff_item in diff_index_no_patch:\n",
    "    if diff_item.a_path in d_diff:\n",
    "        d_diff[diff_item.a_path][\"change_type\"] = diff_item.change_type\n",
    "    "
   ]
  },
  {
   "cell_type": "code",
   "execution_count": 30,
   "metadata": {
    "metadata": {}
   },
   "outputs": [],
   "source": [
    "diff_df = pd.DataFrame(d_diff).T"
   ]
  },
  {
   "cell_type": "code",
   "execution_count": 33,
   "metadata": {
    "metadata": {}
   },
   "outputs": [
    {
     "name": "stdout",
     "output_type": "stream",
     "text": [
      "| change_type   |   count |\n",
      "|:--------------|--------:|\n",
      "| M             |     940 |\n",
      "| R             |     523 |\n",
      "| A             |      54 |\n",
      "| D             |       5 |\n"
     ]
    }
   ],
   "source": [
    "md_table = diff_df.change_type.value_counts().to_markdown()\n",
    "for row in md_table.split(\"\\n\"):\n",
    "    print(row)"
   ]
  },
  {
   "cell_type": "markdown",
   "metadata": {},
   "source": [
    "# TODO: Get am overview of what changes were introduced"
   ]
  },
  {
   "cell_type": "markdown",
   "metadata": {},
   "source": [
    "# TODO: Create a static analysis of dependencies, compare the graphs of 0.0.348 and 0.0.349"
   ]
  },
  {
   "cell_type": "markdown",
   "metadata": {},
   "source": [
    "# TODO: Look for places to improve the existing code in the project (using graph approach or analyzing coupling based on files changed together)"
   ]
  }
 ],
 "metadata": {
  "kernelspec": {
   "display_name": "Python 3",
   "language": "python",
   "name": "python3"
  },
  "language_info": {
   "codemirror_mode": {
    "name": "ipython",
    "version": 3
   },
   "file_extension": ".py",
   "mimetype": "text/x-python",
   "name": "python",
   "nbconvert_exporter": "python",
   "pygments_lexer": "ipython3",
   "version": "3.10.12"
  }
 },
 "nbformat": 4,
 "nbformat_minor": 2
}
